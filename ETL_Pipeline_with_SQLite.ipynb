{
  "nbformat": 4,
  "nbformat_minor": 0,
  "metadata": {
    "colab": {
      "provenance": []
    },
    "kernelspec": {
      "name": "python3",
      "display_name": "Python 3"
    },
    "language_info": {
      "name": "python"
    }
  },
  "cells": [
    {
      "cell_type": "markdown",
      "source": [
        "#**ETL Pipeline(Extract, Transform and Load)**"
      ],
      "metadata": {
        "id": "SldchLDyd8pd"
      }
    },
    {
      "cell_type": "code",
      "source": [
        "!pip install faker"
      ],
      "metadata": {
        "colab": {
          "base_uri": "https://localhost:8080/"
        },
        "id": "imHR1GZOf8V4",
        "outputId": "dd6fc2bb-9cc8-499b-cf82-ddaf792c1796"
      },
      "execution_count": 3,
      "outputs": [
        {
          "output_type": "stream",
          "name": "stdout",
          "text": [
            "Collecting faker\n",
            "  Downloading faker-37.1.0-py3-none-any.whl.metadata (15 kB)\n",
            "Requirement already satisfied: tzdata in /usr/local/lib/python3.11/dist-packages (from faker) (2025.2)\n",
            "Downloading faker-37.1.0-py3-none-any.whl (1.9 MB)\n",
            "\u001b[2K   \u001b[90m━━━━━━━━━━━━━━━━━━━━━━━━━━━━━━━━━━━━━━━━\u001b[0m \u001b[32m1.9/1.9 MB\u001b[0m \u001b[31m19.8 MB/s\u001b[0m eta \u001b[36m0:00:00\u001b[0m\n",
            "\u001b[?25hInstalling collected packages: faker\n",
            "Successfully installed faker-37.1.0\n"
          ]
        }
      ]
    },
    {
      "cell_type": "code",
      "source": [],
      "metadata": {
        "id": "kJb6x-T4gRBc"
      },
      "execution_count": null,
      "outputs": []
    },
    {
      "cell_type": "code",
      "source": [
        "import pandas as pd\n",
        "import random\n",
        "from faker import Faker\n",
        "fake = Faker()\n",
        "\n",
        "#large dataset with 1000 rows\n",
        "data = {\n",
        "    \"id\": list(range(1, 1001)),\n",
        "    \"name\": [fake.first_name() for _ in range(1000)],\n",
        "    \"age\": [random.randint(18, 65) for _ in range(1000)],\n",
        "    \"city\": [fake.city() for _ in range(1000)],\n",
        "    \"salary\": [random.randint(30000, 150000) for _ in range(1000)]\n",
        "}\n",
        "\n",
        "\n",
        "df = pd.DataFrame(data)\n",
        "df.to_csv(\"large_data.csv\", index=False)\n",
        "print(\"Large dataset CSV file created successfully!\")\n"
      ],
      "metadata": {
        "colab": {
          "base_uri": "https://localhost:8080/"
        },
        "id": "ICDC9VFjfwcS",
        "outputId": "f0779de4-5039-43d9-baeb-5c057f77b1e0"
      },
      "execution_count": 4,
      "outputs": [
        {
          "output_type": "stream",
          "name": "stdout",
          "text": [
            "Large dataset CSV file created successfully!\n"
          ]
        }
      ]
    },
    {
      "cell_type": "markdown",
      "source": [
        "**Extracting the data**\n"
      ],
      "metadata": {
        "id": "18sbaI6IgqYk"
      }
    },
    {
      "cell_type": "code",
      "source": [
        "\n",
        "df = pd.read_csv(\"large_data.csv\")\n",
        "print(\"Extracted Data:\")\n",
        "print(df.head())\n"
      ],
      "metadata": {
        "colab": {
          "base_uri": "https://localhost:8080/"
        },
        "id": "m2ThKBkRgXda",
        "outputId": "40c1330d-f432-4678-8216-cd15ea952ba8"
      },
      "execution_count": 6,
      "outputs": [
        {
          "output_type": "stream",
          "name": "stdout",
          "text": [
            "Extracted Data:\n",
            "   id   name  age              city  salary\n",
            "0   1  Chase   25         Davidside   52357\n",
            "1   2  Marie   18     West Maryfurt  129727\n",
            "2   3  Aaron   41       New Brandon   34943\n",
            "3   4  David   56  East Christopher   74770\n",
            "4   5  David   20      Marshborough   67844\n"
          ]
        }
      ]
    },
    {
      "cell_type": "markdown",
      "source": [
        "**Transform Data (Cleaning, Filtering, Aggregations)**\n",
        "\n",
        "Removing duplicates\n",
        "\n",
        "Filtering records where age > 30\n",
        "\n",
        "Creating a new column \"tax\" as 10% of salary\n",
        "\n",
        "Aggregating average salary by city"
      ],
      "metadata": {
        "id": "C9874t9vhCLV"
      }
    },
    {
      "cell_type": "code",
      "source": [
        "df = df.drop_duplicates()\n",
        "\n",
        "#Keep only rows where age > 30\n",
        "df_filtered = df[df[\"age\"] > 30]\n",
        "\n",
        "#Adding a new column 'tax' (10% of salary)\n",
        "df_filtered[\"tax\"] = df_filtered[\"salary\"] * 0.10\n",
        "\n",
        "#Find average salary per city\n",
        "df_aggregated = df_filtered.groupby(\"city\")[\"salary\"].mean().reset_index()\n",
        "\n",
        "df.to_csv(\"large_data.csv\", index=False)\n",
        "print(\"Large dataset CSV file created successfully!\")\n",
        "print(\"Filtered Data:\")\n",
        "print(df_filtered)\n",
        "print(\"\\nAggregated Data (Avg Salary by City):\")\n",
        "print(df_aggregated)\n"
      ],
      "metadata": {
        "colab": {
          "base_uri": "https://localhost:8080/"
        },
        "id": "KUaNNlfag66f",
        "outputId": "d2c6f7e0-df38-4e6a-cc8e-5671979b5e6a"
      },
      "execution_count": 8,
      "outputs": [
        {
          "output_type": "stream",
          "name": "stdout",
          "text": [
            "Large dataset CSV file created successfully!\n",
            "Filtered Data:\n",
            "       id      name  age              city  salary      tax\n",
            "2       3     Aaron   41       New Brandon   34943   3494.3\n",
            "3       4     David   56  East Christopher   74770   7477.0\n",
            "5       6      John   57  West Victorville  141308  14130.8\n",
            "7       8    Taylor   38    South Lydiaton   49102   4910.2\n",
            "8       9      Luke   64         Jamesfort   74223   7422.3\n",
            "..    ...       ...  ...               ...     ...      ...\n",
            "994   995     Shawn   31         West Ryan   97049   9704.9\n",
            "995   996    Robert   33        Watersfort   84535   8453.5\n",
            "996   997  Gabriela   47         Jonesland   96966   9696.6\n",
            "998   999      Tony   37       Ramirezbury  139900  13990.0\n",
            "999  1000    Tricia   43      Patrickmouth  142387  14238.7\n",
            "\n",
            "[755 rows x 6 columns]\n",
            "\n",
            "Aggregated Data (Avg Salary by City):\n",
            "              city    salary\n",
            "0        Aaronberg  131231.0\n",
            "1        Adammouth   41541.0\n",
            "2         Adamport  113081.0\n",
            "3    Alexandraside   30664.0\n",
            "4       Amandatown  103435.0\n",
            "..             ...       ...\n",
            "725     Wilsontown  102699.0\n",
            "726   Woodschester   78059.0\n",
            "727     Wrightstad   94838.0\n",
            "728    Yolandaview   55702.0\n",
            "729     Zamoraport   34605.0\n",
            "\n",
            "[730 rows x 2 columns]\n"
          ]
        },
        {
          "output_type": "stream",
          "name": "stderr",
          "text": [
            "<ipython-input-8-fdd5c29deb61>:7: SettingWithCopyWarning: \n",
            "A value is trying to be set on a copy of a slice from a DataFrame.\n",
            "Try using .loc[row_indexer,col_indexer] = value instead\n",
            "\n",
            "See the caveats in the documentation: https://pandas.pydata.org/pandas-docs/stable/user_guide/indexing.html#returning-a-view-versus-a-copy\n",
            "  df_filtered[\"tax\"] = df_filtered[\"salary\"] * 0.10\n"
          ]
        }
      ]
    },
    {
      "cell_type": "markdown",
      "source": [
        "**Load Data into SQLite**"
      ],
      "metadata": {
        "id": "eX4ZRsaBiqf_"
      }
    },
    {
      "cell_type": "code",
      "source": [
        "import sqlite3\n",
        "df = pd.read_csv(\"large_data.csv\")\n",
        "\n",
        "\n",
        "# Connect to SQLite database (creates file if not exists)\n",
        "conn = sqlite3.connect(\"etl_database.db\")\n",
        "cursor = conn.cursor()\n",
        "\n",
        "# Create a table in SQLite\n",
        "cursor.execute('''\n",
        "    CREATE TABLE IF NOT EXISTS employees (\n",
        "        id INTEGER PRIMARY KEY,\n",
        "        name TEXT,\n",
        "        age INTEGER,\n",
        "        city TEXT,\n",
        "        salary REAL,\n",
        "        tax REAL\n",
        "    )\n",
        "''')\n",
        "\n",
        "#Insert data into the employees table\n",
        "df.to_sql(\"employees\", conn, if_exists=\"replace\", index=False)\n",
        "\n",
        "print(\"Table created successfully and data loaded into the SQLite database, Hurrahh!!!\")\n",
        "\n",
        "\n"
      ],
      "metadata": {
        "colab": {
          "base_uri": "https://localhost:8080/"
        },
        "id": "PdDNalFDhyUs",
        "outputId": "1875fa74-efca-4782-ccb0-5a57bbffe233"
      },
      "execution_count": 11,
      "outputs": [
        {
          "output_type": "stream",
          "name": "stdout",
          "text": [
            "Table created successfully and data loaded into the SQLite database, Hurrahh!!!\n"
          ]
        }
      ]
    },
    {
      "cell_type": "markdown",
      "source": [
        "**Checking the data loaded successfully in SQLite**"
      ],
      "metadata": {
        "id": "PvkhdLF8kSZr"
      }
    },
    {
      "cell_type": "code",
      "source": [
        "#Reading the data from the SQLite table\n",
        "df_sql = pd.read_sql(\"SELECT * FROM employees\", conn)\n",
        "print(\"\\nData from SQLite Database:\")\n",
        "print(df_sql)"
      ],
      "metadata": {
        "colab": {
          "base_uri": "https://localhost:8080/"
        },
        "id": "fpWz_MaKkA-V",
        "outputId": "4c1fc79c-cb81-41fd-bfa5-97daa10862cb"
      },
      "execution_count": 12,
      "outputs": [
        {
          "output_type": "stream",
          "name": "stdout",
          "text": [
            "\n",
            "Data from SQLite Database:\n",
            "       id      name  age              city  salary\n",
            "0       1     Chase   25         Davidside   52357\n",
            "1       2     Marie   18     West Maryfurt  129727\n",
            "2       3     Aaron   41       New Brandon   34943\n",
            "3       4     David   56  East Christopher   74770\n",
            "4       5     David   20      Marshborough   67844\n",
            "..    ...       ...  ...               ...     ...\n",
            "995   996    Robert   33        Watersfort   84535\n",
            "996   997  Gabriela   47         Jonesland   96966\n",
            "997   998    Sheila   30  Rodriguezchester   85172\n",
            "998   999      Tony   37       Ramirezbury  139900\n",
            "999  1000    Tricia   43      Patrickmouth  142387\n",
            "\n",
            "[1000 rows x 5 columns]\n"
          ]
        }
      ]
    },
    {
      "cell_type": "code",
      "source": [
        "conn.close()"
      ],
      "metadata": {
        "id": "X7l3Ypnxkpau"
      },
      "execution_count": 13,
      "outputs": []
    },
    {
      "cell_type": "code",
      "source": [],
      "metadata": {
        "id": "gZwCFShblOYM"
      },
      "execution_count": null,
      "outputs": []
    }
  ]
}